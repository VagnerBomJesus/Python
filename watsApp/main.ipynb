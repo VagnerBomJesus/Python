{
 "cells": [
  {
   "cell_type": "code",
   "execution_count": null,
   "metadata": {},
   "outputs": [],
   "source": [
    "import pandas as pd\n",
    "from selenium import webdriver\n",
    "from selenium.webdriver.common.keys import Keys\n",
    "import time\n",
    "import urllib\n",
    "\n",
    "contatos_df = pd.read_excel(r\"C:\\\\Users\\\\ITCenter\\\\python\\\\watsApp\\\\Enviar.xlsx\")\n",
    "display(contatos_df)\n",
    "\n",
    "navegador = webdriver.Chrome()\n",
    "navegador.get(\"https://web.whatsapp.com/\")\n",
    "\n",
    "while len(navegador.find_elements_by_id(\"side\")) < 1:\n",
    "    time.sleep(5)\n",
    "\n",
    "# já estamos com o login feito no whatsapp web\n",
    "for i, mensagem in enumerate(contatos_df['Mensagem']):\n",
    "    pessoa = contatos_df.loc[i, \"Pessoa\"]\n",
    "    numero = contatos_df.loc[i, \"Número\"]\n",
    "    texto = urllib.parse.quote(f\"Oi {pessoa}! {mensagem}\")\n",
    "    link = f\"https://web.whatsapp.com/send?phone={numero}&text={texto}\"\n",
    "    navegador.get(link)\n",
    "    while len(navegador.find_elements_by_id(\"side\")) < 1:\n",
    "        time.sleep(1)\n",
    "    navegador.find_element_by_xpath('//*[@id=\"main\"]/footer/div[1]/div/span[2]/div/div[2]/div[2]').click()\n",
    "    time.sleep(10)"
   ]
  }
 ],
 "metadata": {
  "kernelspec": {
   "display_name": "Python 3.9.7 ('base')",
   "language": "python",
   "name": "python3"
  },
  "language_info": {
   "codemirror_mode": {
    "name": "ipython",
    "version": 3
   },
   "file_extension": ".py",
   "mimetype": "text/x-python",
   "name": "python",
   "nbconvert_exporter": "python",
   "pygments_lexer": "ipython3",
   "version": "3.9.7"
  },
  "orig_nbformat": 4,
  "vscode": {
   "interpreter": {
    "hash": "ad2bdc8ecc057115af97d19610ffacc2b4e99fae6737bb82f5d7fb13d2f2c186"
   }
  }
 },
 "nbformat": 4,
 "nbformat_minor": 2
}
