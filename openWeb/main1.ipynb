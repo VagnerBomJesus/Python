{
 "cells": [
  {
   "cell_type": "code",
   "execution_count": 29,
   "metadata": {},
   "outputs": [
    {
     "name": "stderr",
     "output_type": "stream",
     "text": [
      "C:\\Users\\ITCenter\\AppData\\Local\\Temp/ipykernel_11768/1080349505.py:21: DeprecationWarning: find_element_by_xpath is deprecated. Please use find_element(by=By.XPATH, value=xpath) instead\n",
      "  navegador.find_element_by_xpath('//*[@id=\":0\"]/div/c-wiz/div[2]/c-wiz/div[1]/c-wiz/div/c-wiz/div[1]/c-wiz/c-wiz/div/c-wiz[2]/div/div/div/div[1]/div[2]').click()\n"
     ]
    },
    {
     "name": "stdout",
     "output_type": "stream",
     "text": [
      "Caixa: 41 878 495,00 €\n",
      "Quantidade: 218 692,00 €\n"
     ]
    }
   ],
   "source": [
    "from selenium import webdriver \n",
    "import pandas as pd\n",
    "import os \n",
    "import time\n",
    "import smtplib\n",
    "import locale\n",
    "import smtplib\n",
    "import ssl\n",
    "from email.mime.application import MIMEApplication\n",
    "from email.mime.multipart import MIMEMultipart\n",
    "from email.mime.text import MIMEText\n",
    "from datetime import datetime\n",
    "\n",
    "p = '//*[@id=\":0\"]/div/c-wiz/div[2]/c-wiz/div[1]/c-wiz/div/c-wiz/div[1]/c-wiz/c-wiz/div/c-wiz/div/div/div/div[1]/div[2]'\n",
    "\n",
    "locale.setlocale(locale.LC_MONETARY, 'pt_PT.UTF-8')\n",
    " \n",
    "navegador = webdriver.Chrome()\n",
    "navegador.get('https://drive.google.com/drive/folders/1fBiK2RMqCiLlpQ_W4ReU0ykwWHP5yQQ6')\n",
    "time.sleep(1)\n",
    "navegador.find_element_by_xpath('//*[@id=\":0\"]/div/c-wiz/div[2]/c-wiz/div[1]/c-wiz/div/c-wiz/div[1]/c-wiz/c-wiz/div/c-wiz[2]/div/div/div/div[1]/div[2]').click()\n",
    "time.sleep(15)\n",
    "os.rename('C:/Users/ITCenter/Downloads/Vendas.xlsx', 'C:/Users/ITCenter/python/openWeb/Vendas.xlsx') \n",
    "navegador.close()\n",
    "tabela = pd.read_excel(r\"C:\\\\Users\\\\ITCenter\\\\python\\\\openWeb\\\\Vendas.xlsx\")\n",
    "#display(tabela)\n",
    "Caixa = tabela[\"Valor Final\"].sum()\n",
    "quantidade = tabela[\"Quantidade\"].sum()\n",
    "\n",
    "Caixa_f = locale.currency(Caixa, grouping= True)\n",
    "quantidade_f = locale.currency(quantidade, grouping= True)\n",
    "\n",
    "print(f'Caixa: {Caixa_f}')\n",
    "print(f'Quantidade: {quantidade_f}') \n",
    "\n",
    "\n",
    " \n",
    "ctx = ssl.create_default_context()\n",
    "password = \"lyxekocwgxisyjtj\"    # Your app password goes here\n",
    "sender = \"vagneripg@gmail.com\"    # Your e-mail address\n",
    "receiver = \"imsrebelo.aulas@gmail.com\" # Recipient's address\n",
    "hoje = datetime.today().strftime('%A, %B %d, %Y')\n",
    "# Create the message\n",
    "message = MIMEMultipart(\"mixed\")\n",
    "message[\"Subject\"] = f\"Relatório {hoje}\"\n",
    "message[\"From\"] = sender\n",
    "message[\"To\"] = receiver\n",
    "\n",
    "# Attach message body content\n",
    "message.attach(MIMEText(f\"\"\"\n",
    "    Olá,\n",
    "\n",
    "    A soma do valor final em caixa é de {Caixa_f}.\n",
    "    A quantidade de produtos em stock é de {quantidade}.\n",
    "\n",
    "    Em anexo os dados da Vendas.\n",
    "\n",
    "    --\n",
    "    Com os melhores cumprimentos,\n",
    "    Vagner Bom Jesus\n",
    "\n",
    "\"\"\", \"plain\"))\n",
    "\n",
    "# Attach image\n",
    "filename = 'Vendas.xlsx'\n",
    "with open(filename, \"rb\") as f:\n",
    "    file = MIMEApplication(f.read())\n",
    "disposition = f\"attachment; filename={filename}\"\n",
    "file.add_header(\"Content-Disposition\", disposition)\n",
    "message.attach(file)\n",
    "\n",
    "# Connect with server and send the message\n",
    "with smtplib.SMTP_SSL(\"smtp.gmail.com\", port=465, context=ctx) as server:\n",
    "    server.login(sender, password)\n",
    "    server.sendmail(sender, receiver, message.as_string())\n",
    "\n",
    "os.remove('C:/Users/ITCenter/python/openWeb/Vendas.xlsx')\n",
    " "
   ]
  },
  {
   "cell_type": "code",
   "execution_count": 12,
   "metadata": {},
   "outputs": [],
   "source": [
    "navegador = webdriver.Chrome()"
   ]
  }
 ],
 "metadata": {
  "interpreter": {
   "hash": "ad2bdc8ecc057115af97d19610ffacc2b4e99fae6737bb82f5d7fb13d2f2c186"
  },
  "kernelspec": {
   "display_name": "Python 3.9.7 ('base')",
   "language": "python",
   "name": "python3"
  },
  "language_info": {
   "codemirror_mode": {
    "name": "ipython",
    "version": 3
   },
   "file_extension": ".py",
   "mimetype": "text/x-python",
   "name": "python",
   "nbconvert_exporter": "python",
   "pygments_lexer": "ipython3",
   "version": "3.9.7"
  },
  "orig_nbformat": 4
 },
 "nbformat": 4,
 "nbformat_minor": 2
}
