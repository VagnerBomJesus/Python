{
 "cells": [
  {
   "cell_type": "markdown",
   "metadata": {},
   "source": [
    "# Criação de uma página web com python\n",
    "\n",
    "#### Desafio: \n",
    "\n",
    "Na drive da disciplina, esta disponível um ficheiro excel: projeto/Gestão_Problemas_Mensal_EXEMPLOGRÁFICOS.xlsx\n",
    "\n",
    "Conseguir gerar uma Pagina Web onde sejam expostos todos/alguns dos gráficos que o Excel contem, atenção existem várias sheets; \n",
    "Os gráficos de cada Sheet devem ser separados, por exemplo por marcadores.\n",
    "Obs: se não conseguirem gerar uma página web, podem gerar um PDF.\n",
    "\n",
    "1º Passo\n",
    "\n",
    "Recursos:\n",
    "Explore a framework Flask\n",
    "Explore: https://code.visualstudio.com/docs/python/tutorial-flask\n",
    "\n",
    "veja se consegue correr este script e gerar a pagina web."
   ]
  },
  {
   "cell_type": "code",
   "execution_count": 4,
   "metadata": {},
   "outputs": [],
   "source": [
    "# guarde este script como app.py\n",
    "from flask import Flask\n",
    "\n",
    "app = Flask(__name__)\n",
    "\n",
    "@app.route(\"/\")\n",
    "def home():\n",
    "    #return \"Hello, Flask!\"\n",
    "    return render_template(\"home.html\")\n"
   ]
  },
  {
   "cell_type": "markdown",
   "metadata": {},
   "source": []
  }
 ],
 "metadata": {
  "kernelspec": {
   "display_name": "Python 3.10.5 64-bit (windows store)",
   "language": "python",
   "name": "python3"
  },
  "language_info": {
   "codemirror_mode": {
    "name": "ipython",
    "version": 3
   },
   "file_extension": ".py",
   "mimetype": "text/x-python",
   "name": "python",
   "nbconvert_exporter": "python",
   "pygments_lexer": "ipython3",
   "version": "3.10.5"
  },
  "vscode": {
   "interpreter": {
    "hash": "89cb69e781907fc0914b3c3221e0a897af45f5fb5b5237ee7bd0c694331c3ac0"
   }
  }
 },
 "nbformat": 4,
 "nbformat_minor": 4
}
